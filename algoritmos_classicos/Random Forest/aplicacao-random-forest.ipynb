{
  "nbformat": 4,
  "nbformat_minor": 0,
  "metadata": {
    "colab": {
      "name": "Random Forest.ipynb",
      "provenance": []
    },
    "kernelspec": {
      "name": "python3",
      "display_name": "Python 3"
    }
  },
  "cells": [
    {
      "cell_type": "markdown",
      "metadata": {
        "id": "K_-4zHrK-X7i"
      },
      "source": [
        "# **Modelo de Floresta Aleatória: Classificação e Regressão**\r\n",
        "\r\n",
        "---\r\n",
        "\r\n"
      ]
    },
    {
      "cell_type": "markdown",
      "metadata": {
        "id": "o1_1ugXpDHUW"
      },
      "source": [
        "## **Obtenção dos Dados**\r\n",
        "\r\n",
        "O primeiro passo em quaisquer projetos de análise de dados e implementação de modelos de *Machine Learning* é a compreensão do problema. Neste caso, em particular, o conjunto de dados original utilizado foi extraído da plataforma [Kaggle](https://www.kaggle.com), e contém dados sobre aluguel de imóveis no Brasil, que variam entre apartamentos, casas em condomínios, quitinetes, etc.\r\n",
        "\r\n",
        "Este *notebook* foi dedicado à aplicação do algoritmo ***Random Forest***, a partir de um conjunto de dados previamente tratado através de algumas técnicas como limpeza e transformação de dados, com o objetivo de estimar os preços dos imóveis.\r\n",
        "\r\n",
        "Para conferir o *notebook* com os detalhes sobre do pré-processamento aplicado ao conjunto de dados, você pode clicar neste [link](https://github.com/TailUFPB/Tutorials/blob/main/Pré-processamento/limpeza_process_dados.ipynb)."
      ]
    },
    {
      "cell_type": "markdown",
      "metadata": {
        "id": "83NmA-tlFvXv"
      },
      "source": [
        "## **Modelos Baseados em Busca**\r\n",
        "\r\n",
        "Se você alguma vez você já estudou *Machine Learning*, certamente se deparou com o termo Árvore de Decisão. Mas, se você não conhece, não há problemas, vamos te explicar sobre o que se trata e como usar. \r\n",
        "\r\n",
        "*Decision Tree* ou Árvore de Decisão é o nome de um algoritmo muito famoso e bastante utilizado pela comunidade. Esse modelo usa a estratégia 'dividir para alcançar os objetivos' para encontrar as soluções de um problema de decisão. Trata-se de um algoritmos baseado em procura, onde um problema complexo é dividido em problemas mais simples, e a estes são aplicados a mesma estratégia repetidade.\r\n",
        "\r\n",
        "De acordo com Lorena et. al. (2011), a força dessa proposta vem da capacidade de dividir o espaço de instãncias em subespaços e cada subespaço é ajustado usando diferentes modelos.\r\n",
        "\r\n",
        "**Mas o que isso tem a ver com *Random Forest*?**\r\n",
        "\r\n",
        "Acontece que o *Random Forest* é um algoritmo de aprendizagem supervisionada baseado em árvores. Como o nome é bem sugestivo, esse modelo funciona criando uma 'floresta de modo aleatório' usando várias árvores de decisão.\r\n",
        "\r\n",
        "<center><img alt=\"IA\" width=\"15%\" src=\"https://www.flaticon.com/svg/static/icons/svg/2913/2913483.svg\"></center>\r\n",
        "\r\n",
        "Segundo Niklas Donges, em um artigo do Towards Data Science, de modo simples: o algoritmo de florestas aleatórias cria várias árvores de decisão e as combina para obter uma predição com maior acurácia e mais estável. É justamente o fato de criar árvores de forma aleatórias que faz o algoritmo *Random Forest* ter melhor desempenho em relação à árvore clássica.\r\n",
        "\r\n",
        "Uma grande vantagem do algoritmo de florestas aleatórias é que ele pode ser utilizado tanto para tarefas de classificação quanto para regressão, o que representa a maioria dos sistemas de aprendizagem de máquina atuais.\r\n",
        "\r\n",
        "**Funcionamento do Algoritmo**\r\n",
        "\r\n",
        "De forma resumida, o Random Forest funciona da seguinte maneira:\r\n",
        "\r\n",
        "1. Criação de um *Bootstrap Dataset*: um subconjunto de dados criado a partir do dataset original de forma aleatória, ou seja, o RF seleciona algumas amostras (linhas) para garantir a aleatoriedade do processo;\r\n",
        "\r\n",
        "2. Iniciar a criação das árvores que vão compor a floresta: seleciona N características aleatoriamente para criar a primeira árvore.\r\n",
        "\r\n",
        "3. Verifica quais das características separam os dados da melhor forma.\r\n",
        "\r\n",
        "4. Agora, seleciona as características que restaram no passo 2 e assim por diante. Desta maneira, são criadas várias árvores, que possuem dados e tamanhos diferentes.\r\n",
        "\r\n",
        "5. Testa todas as árvores e escolhe o resultado com uma votação majoritária, ou seja, a classe definida será a mais votada.\r\n",
        "\r\n",
        "Confira um artigo completo do Towards Data Science sobre o modelo Random Forest clicando [aqui](https://towardsdatascience.com/understanding-random-forest-58381e0602d2)."
      ]
    },
    {
      "cell_type": "markdown",
      "metadata": {
        "id": "UQsHeq56JUR3"
      },
      "source": [
        "## **Implementação do Modelo do Random Forest**"
      ]
    },
    {
      "cell_type": "markdown",
      "metadata": {
        "id": "VbbpabAEKE4R"
      },
      "source": [
        "Neste *notebook* foram feitas as implementações do algoritmo *Random Forest* para regressão e classificação, usando a biblioteca *Scikit-Learn*, com o objetivo de prever o preço dos imóveis detalhados no *dataset*."
      ]
    },
    {
      "cell_type": "code",
      "metadata": {
        "id": "4ipH3YRC-M-b"
      },
      "source": [
        "# IMPORTANDO AS PRINCIPAIS BIBLIOTECAS DE MANIPULAÇÃO E VISUALIZAÇÃO DE DADOS\r\n",
        "\r\n",
        "import pandas as pd\r\n",
        "import numpy as np\r\n",
        "import seaborn as sns"
      ],
      "execution_count": null,
      "outputs": []
    },
    {
      "cell_type": "code",
      "metadata": {
        "id": "V--JhuPjHzSf"
      },
      "source": [
        "# IMPORTANDO O CONJUNTO DE DADOS\r\n",
        "\r\n",
        "df = pd.read_csv('https://raw.githubusercontent.com/jeffersonverissimo/datasets/master/dataset.csv')"
      ],
      "execution_count": null,
      "outputs": []
    },
    {
      "cell_type": "code",
      "metadata": {
        "colab": {
          "base_uri": "https://localhost:8080/",
          "height": 270
        },
        "id": "roSYncakMKN4",
        "outputId": "3df4d0f3-dd3d-416c-a8b3-bedc2eadb6b2"
      },
      "source": [
        "# VISUALIZANDO AS PRIMEIRAS 5 LINHAS DO DATASET\r\n",
        "\r\n",
        "df.head()"
      ],
      "execution_count": null,
      "outputs": [
        {
          "output_type": "execute_result",
          "data": {
            "text/html": [
              "<div>\n",
              "<style scoped>\n",
              "    .dataframe tbody tr th:only-of-type {\n",
              "        vertical-align: middle;\n",
              "    }\n",
              "\n",
              "    .dataframe tbody tr th {\n",
              "        vertical-align: top;\n",
              "    }\n",
              "\n",
              "    .dataframe thead th {\n",
              "        text-align: right;\n",
              "    }\n",
              "</style>\n",
              "<table border=\"1\" class=\"dataframe\">\n",
              "  <thead>\n",
              "    <tr style=\"text-align: right;\">\n",
              "      <th></th>\n",
              "      <th>quintal</th>\n",
              "      <th>churrasqueira</th>\n",
              "      <th>banheiros</th>\n",
              "      <th>banheira</th>\n",
              "      <th>quartos</th>\n",
              "      <th>lareira</th>\n",
              "      <th>andares</th>\n",
              "      <th>mobilhado</th>\n",
              "      <th>jardim</th>\n",
              "      <th>estacionamento</th>\n",
              "      <th>academia</th>\n",
              "      <th>jacuzzi</th>\n",
              "      <th>vistaMontanhas</th>\n",
              "      <th>vagasGaragem</th>\n",
              "      <th>salaoFestas</th>\n",
              "      <th>parquinho</th>\n",
              "      <th>piscina</th>\n",
              "      <th>precoTotal</th>\n",
              "      <th>sauna</th>\n",
              "      <th>isolamentoAcustico</th>\n",
              "      <th>quadra</th>\n",
              "      <th>suites</th>\n",
              "      <th>quadraTenis</th>\n",
              "      <th>area</th>\n",
              "      <th>andar</th>\n",
              "      <th>areaUtilizada</th>\n",
              "      <th>Acre</th>\n",
              "      <th>Alagoas</th>\n",
              "      <th>Amazonas</th>\n",
              "      <th>Bahia</th>\n",
              "      <th>Ceará</th>\n",
              "      <th>Distrito Federal</th>\n",
              "      <th>Espírito Santo</th>\n",
              "      <th>Goiás</th>\n",
              "      <th>Maranhão</th>\n",
              "      <th>Mato Grosso</th>\n",
              "      <th>Mato Grosso do Sul</th>\n",
              "      <th>Minas Gerais</th>\n",
              "      <th>Paraná</th>\n",
              "      <th>Paraíba</th>\n",
              "      <th>Pará</th>\n",
              "      <th>Pernambuco</th>\n",
              "      <th>Piauí</th>\n",
              "      <th>Rio Grande do Norte</th>\n",
              "      <th>Rio Grande do Sul</th>\n",
              "      <th>Rio de Janeiro</th>\n",
              "      <th>Rondônia</th>\n",
              "      <th>Santa Catarina</th>\n",
              "      <th>Sergipe</th>\n",
              "      <th>São Paulo</th>\n",
              "      <th>Tocantins</th>\n",
              "      <th>areaCat</th>\n",
              "      <th>areaUtilizadaCat</th>\n",
              "    </tr>\n",
              "  </thead>\n",
              "  <tbody>\n",
              "    <tr>\n",
              "      <th>0</th>\n",
              "      <td>0</td>\n",
              "      <td>0</td>\n",
              "      <td>1</td>\n",
              "      <td>0</td>\n",
              "      <td>2</td>\n",
              "      <td>0</td>\n",
              "      <td>1</td>\n",
              "      <td>0</td>\n",
              "      <td>0</td>\n",
              "      <td>0</td>\n",
              "      <td>0</td>\n",
              "      <td>0</td>\n",
              "      <td>0</td>\n",
              "      <td>1</td>\n",
              "      <td>0</td>\n",
              "      <td>0</td>\n",
              "      <td>0</td>\n",
              "      <td>1.350</td>\n",
              "      <td>0</td>\n",
              "      <td>0</td>\n",
              "      <td>0</td>\n",
              "      <td>1</td>\n",
              "      <td>0</td>\n",
              "      <td>45</td>\n",
              "      <td>0</td>\n",
              "      <td>45</td>\n",
              "      <td>0.0</td>\n",
              "      <td>0.0</td>\n",
              "      <td>0.0</td>\n",
              "      <td>0.0</td>\n",
              "      <td>0.0</td>\n",
              "      <td>0.0</td>\n",
              "      <td>0.0</td>\n",
              "      <td>0.0</td>\n",
              "      <td>0.0</td>\n",
              "      <td>0.0</td>\n",
              "      <td>0.0</td>\n",
              "      <td>0.0</td>\n",
              "      <td>0.0</td>\n",
              "      <td>0.0</td>\n",
              "      <td>0.0</td>\n",
              "      <td>0.0</td>\n",
              "      <td>0.0</td>\n",
              "      <td>0.0</td>\n",
              "      <td>0.0</td>\n",
              "      <td>0.0</td>\n",
              "      <td>0.0</td>\n",
              "      <td>0.0</td>\n",
              "      <td>0.0</td>\n",
              "      <td>1.0</td>\n",
              "      <td>0.0</td>\n",
              "      <td>0.0</td>\n",
              "      <td>1.0</td>\n",
              "    </tr>\n",
              "    <tr>\n",
              "      <th>1</th>\n",
              "      <td>0</td>\n",
              "      <td>0</td>\n",
              "      <td>3</td>\n",
              "      <td>0</td>\n",
              "      <td>3</td>\n",
              "      <td>0</td>\n",
              "      <td>1</td>\n",
              "      <td>0</td>\n",
              "      <td>0</td>\n",
              "      <td>0</td>\n",
              "      <td>0</td>\n",
              "      <td>0</td>\n",
              "      <td>0</td>\n",
              "      <td>1</td>\n",
              "      <td>0</td>\n",
              "      <td>0</td>\n",
              "      <td>0</td>\n",
              "      <td>5.561</td>\n",
              "      <td>0</td>\n",
              "      <td>0</td>\n",
              "      <td>0</td>\n",
              "      <td>1</td>\n",
              "      <td>0</td>\n",
              "      <td>140</td>\n",
              "      <td>0</td>\n",
              "      <td>140</td>\n",
              "      <td>0.0</td>\n",
              "      <td>0.0</td>\n",
              "      <td>0.0</td>\n",
              "      <td>0.0</td>\n",
              "      <td>0.0</td>\n",
              "      <td>0.0</td>\n",
              "      <td>0.0</td>\n",
              "      <td>0.0</td>\n",
              "      <td>0.0</td>\n",
              "      <td>0.0</td>\n",
              "      <td>0.0</td>\n",
              "      <td>0.0</td>\n",
              "      <td>0.0</td>\n",
              "      <td>0.0</td>\n",
              "      <td>0.0</td>\n",
              "      <td>0.0</td>\n",
              "      <td>0.0</td>\n",
              "      <td>0.0</td>\n",
              "      <td>0.0</td>\n",
              "      <td>0.0</td>\n",
              "      <td>0.0</td>\n",
              "      <td>1.0</td>\n",
              "      <td>0.0</td>\n",
              "      <td>0.0</td>\n",
              "      <td>0.0</td>\n",
              "      <td>1.0</td>\n",
              "      <td>3.0</td>\n",
              "    </tr>\n",
              "    <tr>\n",
              "      <th>2</th>\n",
              "      <td>0</td>\n",
              "      <td>0</td>\n",
              "      <td>3</td>\n",
              "      <td>0</td>\n",
              "      <td>3</td>\n",
              "      <td>0</td>\n",
              "      <td>1</td>\n",
              "      <td>0</td>\n",
              "      <td>0</td>\n",
              "      <td>0</td>\n",
              "      <td>0</td>\n",
              "      <td>0</td>\n",
              "      <td>0</td>\n",
              "      <td>2</td>\n",
              "      <td>0</td>\n",
              "      <td>0</td>\n",
              "      <td>0</td>\n",
              "      <td>2.935</td>\n",
              "      <td>0</td>\n",
              "      <td>0</td>\n",
              "      <td>0</td>\n",
              "      <td>1</td>\n",
              "      <td>0</td>\n",
              "      <td>100</td>\n",
              "      <td>0</td>\n",
              "      <td>100</td>\n",
              "      <td>0.0</td>\n",
              "      <td>0.0</td>\n",
              "      <td>0.0</td>\n",
              "      <td>0.0</td>\n",
              "      <td>0.0</td>\n",
              "      <td>0.0</td>\n",
              "      <td>0.0</td>\n",
              "      <td>0.0</td>\n",
              "      <td>0.0</td>\n",
              "      <td>0.0</td>\n",
              "      <td>0.0</td>\n",
              "      <td>0.0</td>\n",
              "      <td>0.0</td>\n",
              "      <td>0.0</td>\n",
              "      <td>0.0</td>\n",
              "      <td>0.0</td>\n",
              "      <td>0.0</td>\n",
              "      <td>0.0</td>\n",
              "      <td>0.0</td>\n",
              "      <td>1.0</td>\n",
              "      <td>0.0</td>\n",
              "      <td>0.0</td>\n",
              "      <td>0.0</td>\n",
              "      <td>0.0</td>\n",
              "      <td>0.0</td>\n",
              "      <td>1.0</td>\n",
              "      <td>2.0</td>\n",
              "    </tr>\n",
              "    <tr>\n",
              "      <th>3</th>\n",
              "      <td>0</td>\n",
              "      <td>0</td>\n",
              "      <td>2</td>\n",
              "      <td>0</td>\n",
              "      <td>1</td>\n",
              "      <td>0</td>\n",
              "      <td>1</td>\n",
              "      <td>0</td>\n",
              "      <td>0</td>\n",
              "      <td>0</td>\n",
              "      <td>0</td>\n",
              "      <td>0</td>\n",
              "      <td>0</td>\n",
              "      <td>1</td>\n",
              "      <td>0</td>\n",
              "      <td>0</td>\n",
              "      <td>1</td>\n",
              "      <td>137.437</td>\n",
              "      <td>1</td>\n",
              "      <td>0</td>\n",
              "      <td>0</td>\n",
              "      <td>0</td>\n",
              "      <td>0</td>\n",
              "      <td>80</td>\n",
              "      <td>0</td>\n",
              "      <td>80</td>\n",
              "      <td>0.0</td>\n",
              "      <td>0.0</td>\n",
              "      <td>0.0</td>\n",
              "      <td>0.0</td>\n",
              "      <td>0.0</td>\n",
              "      <td>0.0</td>\n",
              "      <td>0.0</td>\n",
              "      <td>0.0</td>\n",
              "      <td>0.0</td>\n",
              "      <td>0.0</td>\n",
              "      <td>0.0</td>\n",
              "      <td>0.0</td>\n",
              "      <td>0.0</td>\n",
              "      <td>0.0</td>\n",
              "      <td>0.0</td>\n",
              "      <td>0.0</td>\n",
              "      <td>0.0</td>\n",
              "      <td>0.0</td>\n",
              "      <td>0.0</td>\n",
              "      <td>0.0</td>\n",
              "      <td>0.0</td>\n",
              "      <td>0.0</td>\n",
              "      <td>0.0</td>\n",
              "      <td>1.0</td>\n",
              "      <td>0.0</td>\n",
              "      <td>1.0</td>\n",
              "      <td>2.0</td>\n",
              "    </tr>\n",
              "    <tr>\n",
              "      <th>4</th>\n",
              "      <td>0</td>\n",
              "      <td>1</td>\n",
              "      <td>3</td>\n",
              "      <td>0</td>\n",
              "      <td>2</td>\n",
              "      <td>0</td>\n",
              "      <td>1</td>\n",
              "      <td>0</td>\n",
              "      <td>0</td>\n",
              "      <td>0</td>\n",
              "      <td>0</td>\n",
              "      <td>0</td>\n",
              "      <td>0</td>\n",
              "      <td>2</td>\n",
              "      <td>1</td>\n",
              "      <td>1</td>\n",
              "      <td>1</td>\n",
              "      <td>3.136</td>\n",
              "      <td>1</td>\n",
              "      <td>0</td>\n",
              "      <td>1</td>\n",
              "      <td>2</td>\n",
              "      <td>0</td>\n",
              "      <td>69</td>\n",
              "      <td>0</td>\n",
              "      <td>69</td>\n",
              "      <td>0.0</td>\n",
              "      <td>0.0</td>\n",
              "      <td>0.0</td>\n",
              "      <td>0.0</td>\n",
              "      <td>0.0</td>\n",
              "      <td>0.0</td>\n",
              "      <td>0.0</td>\n",
              "      <td>0.0</td>\n",
              "      <td>0.0</td>\n",
              "      <td>0.0</td>\n",
              "      <td>0.0</td>\n",
              "      <td>0.0</td>\n",
              "      <td>0.0</td>\n",
              "      <td>0.0</td>\n",
              "      <td>0.0</td>\n",
              "      <td>0.0</td>\n",
              "      <td>0.0</td>\n",
              "      <td>0.0</td>\n",
              "      <td>0.0</td>\n",
              "      <td>0.0</td>\n",
              "      <td>0.0</td>\n",
              "      <td>0.0</td>\n",
              "      <td>0.0</td>\n",
              "      <td>1.0</td>\n",
              "      <td>0.0</td>\n",
              "      <td>1.0</td>\n",
              "      <td>2.0</td>\n",
              "    </tr>\n",
              "  </tbody>\n",
              "</table>\n",
              "</div>"
            ],
            "text/plain": [
              "   quintal  churrasqueira  banheiros  ...  Tocantins  areaCat  areaUtilizadaCat\n",
              "0        0              0          1  ...        0.0      0.0               1.0\n",
              "1        0              0          3  ...        0.0      1.0               3.0\n",
              "2        0              0          3  ...        0.0      1.0               2.0\n",
              "3        0              0          2  ...        0.0      1.0               2.0\n",
              "4        0              1          3  ...        0.0      1.0               2.0\n",
              "\n",
              "[5 rows x 53 columns]"
            ]
          },
          "metadata": {
            "tags": []
          },
          "execution_count": 4
        }
      ]
    },
    {
      "cell_type": "markdown",
      "metadata": {
        "id": "0xiXWhbANbJF"
      },
      "source": [
        "## **Random Forest - Regression**"
      ]
    },
    {
      "cell_type": "markdown",
      "metadata": {
        "id": "jMgGjD_ltXOE"
      },
      "source": [
        "A biblioteca Scikit-Learn facilita a construção de modelos por meio de classes e métodos predefinidos, otimizados na linguagem C++ para trabalhar com máxima eficiência e utilizando o mínimo de processamento computacional. \r\n",
        "\r\n",
        "Não há exemplo mais claro do poder da e simplicidade de um modelo como o random forest quando este é implementado por meio do Scikit-learn, e para efeito de demonstração esta seção busca resolver um problema de regressão, como segue."
      ]
    },
    {
      "cell_type": "code",
      "metadata": {
        "id": "i1-uo-mN6bz2"
      },
      "source": [
        "# SALVANDO UMA CÓPIA DO DATASET ORIGINAL\r\n",
        "\r\n",
        "df_rgs = df.copy()\r\n"
      ],
      "execution_count": null,
      "outputs": []
    },
    {
      "cell_type": "markdown",
      "metadata": {
        "id": "14Yvv8l4uqEO"
      },
      "source": [
        "Scikit-learn também dispõe de uma ferramenta indispensável quando se trata de treinamento de modelos, a saber, a separação entre conjuntos de treinamento e de validação. Um modelo que não consegue generalizar com precisão razoável não pode ser aplicado em problemas reais, isto é, não pode ser considerado como uma solução viável. Neste ponto entra a necessidade de ocultar parte do banco de dados original para então julgar o desempenho de um dado modelo por sua performance sobre padrões que não foram previamente apresentados. A célula a seguir demonstra o uso desta técnica."
      ]
    },
    {
      "cell_type": "code",
      "metadata": {
        "id": "xTiicQlVv89N"
      },
      "source": [
        "from sklearn.model_selection import train_test_split\r\n",
        "\r\n",
        "X = df_rgs.loc[:, df.columns != \"precoTotal\"]\r\n",
        "y = df_rgs.loc[:, \"precoTotal\"]\r\n",
        "\r\n",
        "X_train, X_test, y_train, y_test = train_test_split(X, y, test_size=0.25, \r\n",
        "                                                    random_state=1701)\r\n"
      ],
      "execution_count": null,
      "outputs": []
    },
    {
      "cell_type": "markdown",
      "metadata": {
        "id": "JX-AymIaxxTx"
      },
      "source": [
        "Finalmente, o modelo de regressão sendo construído e avaliado em questão de poucas linhas. "
      ]
    },
    {
      "cell_type": "code",
      "metadata": {
        "id": "j2aH6z0nMKIt",
        "colab": {
          "base_uri": "https://localhost:8080/"
        },
        "outputId": "332cb24c-be59-4dfe-b252-348f1eb41611"
      },
      "source": [
        "from sklearn.ensemble import RandomForestRegressor\r\n",
        "\r\n",
        "# Instanciando o modelo\r\n",
        "regressor = RandomForestRegressor(random_state=1701, verbose=1)\r\n",
        "\r\n",
        "# Ajustando aos dados de treinamento\r\n",
        "regressor.fit(X_train, y_train)\r\n",
        "\r\n",
        "# Obtendo uma predição utilizando dados de validação\r\n",
        "y_pred = regressor.predict(X_test)\r\n",
        "\r\n",
        "# Avaliando o modelo com base no desepenho sobre dados não apresentados\r\n",
        "regressor.score(X_test, y_test)"
      ],
      "execution_count": null,
      "outputs": [
        {
          "output_type": "stream",
          "text": [
            "[Parallel(n_jobs=1)]: Using backend SequentialBackend with 1 concurrent workers.\n",
            "[Parallel(n_jobs=1)]: Done 100 out of 100 | elapsed:   11.5s finished\n",
            "[Parallel(n_jobs=1)]: Using backend SequentialBackend with 1 concurrent workers.\n",
            "[Parallel(n_jobs=1)]: Done 100 out of 100 | elapsed:    0.2s finished\n",
            "[Parallel(n_jobs=1)]: Using backend SequentialBackend with 1 concurrent workers.\n",
            "[Parallel(n_jobs=1)]: Done 100 out of 100 | elapsed:    0.2s finished\n"
          ],
          "name": "stderr"
        },
        {
          "output_type": "execute_result",
          "data": {
            "text/plain": [
              "0.2036399950133535"
            ]
          },
          "metadata": {
            "tags": []
          },
          "execution_count": 7
        }
      ]
    },
    {
      "cell_type": "markdown",
      "metadata": {
        "id": "3AS8EsiBzp-p"
      },
      "source": [
        "Percebam que o nosso modelo não se saiu bem quando avaliado sobre sua capacidade de generalização. Isto pode ocorrer em casos onde o desenvolvedor não ajusta corretamente os hiperparâmetros do modelo. Aqui a intenção é apresentar a utilizade da biblioteca na resolução de problemas com random forests, uma visão simplista mas que introduz de maneira sucinta o caminho para se utilizar modelos desta natureza."
      ]
    },
    {
      "cell_type": "markdown",
      "metadata": {
        "id": "gsZ0PRpeNiLy"
      },
      "source": [
        "## **Random Forest - Classification**"
      ]
    },
    {
      "cell_type": "code",
      "metadata": {
        "id": "ctW2-53pM9et"
      },
      "source": [
        "# SALVANDO UMA CÓPIA DO DATASET ORIGINAL\r\n",
        "\r\n",
        "df_clf = df.copy()"
      ],
      "execution_count": null,
      "outputs": []
    },
    {
      "cell_type": "markdown",
      "metadata": {
        "id": "-o4whwyv7gn3"
      },
      "source": [
        "Como pode-se perceber, a variável alvo (*target*) do conjunto de dados é do tipo numérica, mas apresenta diversos valores, o que dificulta a implementação do modelo de *Machine Learning*.\r\n",
        "\r\n",
        "Nesta etapa, antes de construir o modelo de classificação, deve-se adaptar a variável para os padrões do problema. Assim, a variável `precoTotal` será transformada de modo o algoritmo aceite.\r\n",
        "\r\n",
        "Para isso, como se tratam de preços de imóveis, enquadraremos tais preços em três categorias: baixo, médio e alto ou barato, médio e caro. Depois disso, será possível transformar para numérica novamente, padrão aceito pelo modelo."
      ]
    },
    {
      "cell_type": "code",
      "metadata": {
        "id": "Bmh959MD9iBV",
        "colab": {
          "base_uri": "https://localhost:8080/"
        },
        "outputId": "85890e81-a5e3-46f3-9859-1229f3023aad"
      },
      "source": [
        "# SEPARANDO OS VALORES EM BARATO, MÉDIO E CARO\r\n",
        "\r\n",
        "preco_new = pd.qcut(df_clf.precoTotal, q = 3, labels = ['barato', 'médio', 'caro'])\r\n",
        "\r\n",
        "preco_new"
      ],
      "execution_count": null,
      "outputs": [
        {
          "output_type": "execute_result",
          "data": {
            "text/plain": [
              "0        barato\n",
              "1          caro\n",
              "2         médio\n",
              "3          caro\n",
              "4         médio\n",
              "          ...  \n",
              "25159    barato\n",
              "25160     médio\n",
              "25161     médio\n",
              "25162     médio\n",
              "25163      caro\n",
              "Name: precoTotal, Length: 25164, dtype: category\n",
              "Categories (3, object): ['barato' < 'médio' < 'caro']"
            ]
          },
          "metadata": {
            "tags": []
          },
          "execution_count": 9
        }
      ]
    },
    {
      "cell_type": "code",
      "metadata": {
        "id": "BII9QLITJGa6",
        "colab": {
          "base_uri": "https://localhost:8080/"
        },
        "outputId": "6d15d78b-46ca-4e9e-ade7-05379ecbe5cd"
      },
      "source": [
        "# CONFERINDO AS QUANTIDADES DAS CLASSES CRIADAS\r\n",
        "\r\n",
        "preco_new.value_counts()"
      ],
      "execution_count": null,
      "outputs": [
        {
          "output_type": "execute_result",
          "data": {
            "text/plain": [
              "médio     8414\n",
              "barato    8392\n",
              "caro      8358\n",
              "Name: precoTotal, dtype: int64"
            ]
          },
          "metadata": {
            "tags": []
          },
          "execution_count": 10
        }
      ]
    },
    {
      "cell_type": "markdown",
      "metadata": {
        "id": "hZkuyCmKFjqP"
      },
      "source": [
        "Como mostrado acima, podemos observar que os dados da coluna `precoTotal` foram separados em três classes.\r\n",
        "\r\n",
        "Agora, devemos transformar esses dados novamente para numéricos."
      ]
    },
    {
      "cell_type": "code",
      "metadata": {
        "id": "7imDxtmkGZ_5"
      },
      "source": [
        "# TRANSFORMANDO DE CATEGÓTICO PARA NUMÉRICO\r\n",
        "\r\n",
        "preco_new_transf = preco_new.cat.codes"
      ],
      "execution_count": null,
      "outputs": []
    },
    {
      "cell_type": "code",
      "metadata": {
        "id": "QJrod7LoJQT-",
        "colab": {
          "base_uri": "https://localhost:8080/"
        },
        "outputId": "71e8633b-18db-495d-c971-931a89479329"
      },
      "source": [
        "# CONFERINDO AS QUANTIDADES DAS CLASSES CRIADAS\r\n",
        "\r\n",
        "preco_new_transf.value_counts()"
      ],
      "execution_count": null,
      "outputs": [
        {
          "output_type": "execute_result",
          "data": {
            "text/plain": [
              "1    8414\n",
              "0    8392\n",
              "2    8358\n",
              "dtype: int64"
            ]
          },
          "metadata": {
            "tags": []
          },
          "execution_count": 12
        }
      ]
    },
    {
      "cell_type": "markdown",
      "metadata": {
        "id": "vtwqD6bHIjAj"
      },
      "source": [
        "Assim, os índices da nova variável correspondem a:\r\n",
        "\r\n",
        "* 0 = barato\r\n",
        "* 1 = médio\r\n",
        "* 2 = caro"
      ]
    },
    {
      "cell_type": "code",
      "metadata": {
        "id": "af98q3WhJWM6"
      },
      "source": [
        "# CRIANDO UMA NOVA COLUNA PARA O DATAFRAME\r\n",
        "\r\n",
        "df_clf['preco'] = preco_new_transf"
      ],
      "execution_count": null,
      "outputs": []
    },
    {
      "cell_type": "markdown",
      "metadata": {
        "id": "0udUY0yGIF9v"
      },
      "source": [
        "Finalizada esta etapa, podemos visualizar o conjunto de dados e perceber que a coluna `preco` agora faz parte do *dataset*."
      ]
    },
    {
      "cell_type": "code",
      "metadata": {
        "id": "W2JOj0s4IB5V",
        "colab": {
          "base_uri": "https://localhost:8080/",
          "height": 270
        },
        "outputId": "c449effa-c763-4e3e-c10f-ea5e10a72bc3"
      },
      "source": [
        "df_clf.head()"
      ],
      "execution_count": null,
      "outputs": [
        {
          "output_type": "execute_result",
          "data": {
            "text/html": [
              "<div>\n",
              "<style scoped>\n",
              "    .dataframe tbody tr th:only-of-type {\n",
              "        vertical-align: middle;\n",
              "    }\n",
              "\n",
              "    .dataframe tbody tr th {\n",
              "        vertical-align: top;\n",
              "    }\n",
              "\n",
              "    .dataframe thead th {\n",
              "        text-align: right;\n",
              "    }\n",
              "</style>\n",
              "<table border=\"1\" class=\"dataframe\">\n",
              "  <thead>\n",
              "    <tr style=\"text-align: right;\">\n",
              "      <th></th>\n",
              "      <th>quintal</th>\n",
              "      <th>churrasqueira</th>\n",
              "      <th>banheiros</th>\n",
              "      <th>banheira</th>\n",
              "      <th>quartos</th>\n",
              "      <th>lareira</th>\n",
              "      <th>andares</th>\n",
              "      <th>mobilhado</th>\n",
              "      <th>jardim</th>\n",
              "      <th>estacionamento</th>\n",
              "      <th>academia</th>\n",
              "      <th>jacuzzi</th>\n",
              "      <th>vistaMontanhas</th>\n",
              "      <th>vagasGaragem</th>\n",
              "      <th>salaoFestas</th>\n",
              "      <th>parquinho</th>\n",
              "      <th>piscina</th>\n",
              "      <th>precoTotal</th>\n",
              "      <th>sauna</th>\n",
              "      <th>isolamentoAcustico</th>\n",
              "      <th>quadra</th>\n",
              "      <th>suites</th>\n",
              "      <th>quadraTenis</th>\n",
              "      <th>area</th>\n",
              "      <th>andar</th>\n",
              "      <th>areaUtilizada</th>\n",
              "      <th>Acre</th>\n",
              "      <th>Alagoas</th>\n",
              "      <th>Amazonas</th>\n",
              "      <th>Bahia</th>\n",
              "      <th>Ceará</th>\n",
              "      <th>Distrito Federal</th>\n",
              "      <th>Espírito Santo</th>\n",
              "      <th>Goiás</th>\n",
              "      <th>Maranhão</th>\n",
              "      <th>Mato Grosso</th>\n",
              "      <th>Mato Grosso do Sul</th>\n",
              "      <th>Minas Gerais</th>\n",
              "      <th>Paraná</th>\n",
              "      <th>Paraíba</th>\n",
              "      <th>Pará</th>\n",
              "      <th>Pernambuco</th>\n",
              "      <th>Piauí</th>\n",
              "      <th>Rio Grande do Norte</th>\n",
              "      <th>Rio Grande do Sul</th>\n",
              "      <th>Rio de Janeiro</th>\n",
              "      <th>Rondônia</th>\n",
              "      <th>Santa Catarina</th>\n",
              "      <th>Sergipe</th>\n",
              "      <th>São Paulo</th>\n",
              "      <th>Tocantins</th>\n",
              "      <th>areaCat</th>\n",
              "      <th>areaUtilizadaCat</th>\n",
              "      <th>preco</th>\n",
              "    </tr>\n",
              "  </thead>\n",
              "  <tbody>\n",
              "    <tr>\n",
              "      <th>0</th>\n",
              "      <td>0</td>\n",
              "      <td>0</td>\n",
              "      <td>1</td>\n",
              "      <td>0</td>\n",
              "      <td>2</td>\n",
              "      <td>0</td>\n",
              "      <td>1</td>\n",
              "      <td>0</td>\n",
              "      <td>0</td>\n",
              "      <td>0</td>\n",
              "      <td>0</td>\n",
              "      <td>0</td>\n",
              "      <td>0</td>\n",
              "      <td>1</td>\n",
              "      <td>0</td>\n",
              "      <td>0</td>\n",
              "      <td>0</td>\n",
              "      <td>1.350</td>\n",
              "      <td>0</td>\n",
              "      <td>0</td>\n",
              "      <td>0</td>\n",
              "      <td>1</td>\n",
              "      <td>0</td>\n",
              "      <td>45</td>\n",
              "      <td>0</td>\n",
              "      <td>45</td>\n",
              "      <td>0.0</td>\n",
              "      <td>0.0</td>\n",
              "      <td>0.0</td>\n",
              "      <td>0.0</td>\n",
              "      <td>0.0</td>\n",
              "      <td>0.0</td>\n",
              "      <td>0.0</td>\n",
              "      <td>0.0</td>\n",
              "      <td>0.0</td>\n",
              "      <td>0.0</td>\n",
              "      <td>0.0</td>\n",
              "      <td>0.0</td>\n",
              "      <td>0.0</td>\n",
              "      <td>0.0</td>\n",
              "      <td>0.0</td>\n",
              "      <td>0.0</td>\n",
              "      <td>0.0</td>\n",
              "      <td>0.0</td>\n",
              "      <td>0.0</td>\n",
              "      <td>0.0</td>\n",
              "      <td>0.0</td>\n",
              "      <td>0.0</td>\n",
              "      <td>0.0</td>\n",
              "      <td>1.0</td>\n",
              "      <td>0.0</td>\n",
              "      <td>0.0</td>\n",
              "      <td>1.0</td>\n",
              "      <td>0</td>\n",
              "    </tr>\n",
              "    <tr>\n",
              "      <th>1</th>\n",
              "      <td>0</td>\n",
              "      <td>0</td>\n",
              "      <td>3</td>\n",
              "      <td>0</td>\n",
              "      <td>3</td>\n",
              "      <td>0</td>\n",
              "      <td>1</td>\n",
              "      <td>0</td>\n",
              "      <td>0</td>\n",
              "      <td>0</td>\n",
              "      <td>0</td>\n",
              "      <td>0</td>\n",
              "      <td>0</td>\n",
              "      <td>1</td>\n",
              "      <td>0</td>\n",
              "      <td>0</td>\n",
              "      <td>0</td>\n",
              "      <td>5.561</td>\n",
              "      <td>0</td>\n",
              "      <td>0</td>\n",
              "      <td>0</td>\n",
              "      <td>1</td>\n",
              "      <td>0</td>\n",
              "      <td>140</td>\n",
              "      <td>0</td>\n",
              "      <td>140</td>\n",
              "      <td>0.0</td>\n",
              "      <td>0.0</td>\n",
              "      <td>0.0</td>\n",
              "      <td>0.0</td>\n",
              "      <td>0.0</td>\n",
              "      <td>0.0</td>\n",
              "      <td>0.0</td>\n",
              "      <td>0.0</td>\n",
              "      <td>0.0</td>\n",
              "      <td>0.0</td>\n",
              "      <td>0.0</td>\n",
              "      <td>0.0</td>\n",
              "      <td>0.0</td>\n",
              "      <td>0.0</td>\n",
              "      <td>0.0</td>\n",
              "      <td>0.0</td>\n",
              "      <td>0.0</td>\n",
              "      <td>0.0</td>\n",
              "      <td>0.0</td>\n",
              "      <td>0.0</td>\n",
              "      <td>0.0</td>\n",
              "      <td>1.0</td>\n",
              "      <td>0.0</td>\n",
              "      <td>0.0</td>\n",
              "      <td>0.0</td>\n",
              "      <td>1.0</td>\n",
              "      <td>3.0</td>\n",
              "      <td>2</td>\n",
              "    </tr>\n",
              "    <tr>\n",
              "      <th>2</th>\n",
              "      <td>0</td>\n",
              "      <td>0</td>\n",
              "      <td>3</td>\n",
              "      <td>0</td>\n",
              "      <td>3</td>\n",
              "      <td>0</td>\n",
              "      <td>1</td>\n",
              "      <td>0</td>\n",
              "      <td>0</td>\n",
              "      <td>0</td>\n",
              "      <td>0</td>\n",
              "      <td>0</td>\n",
              "      <td>0</td>\n",
              "      <td>2</td>\n",
              "      <td>0</td>\n",
              "      <td>0</td>\n",
              "      <td>0</td>\n",
              "      <td>2.935</td>\n",
              "      <td>0</td>\n",
              "      <td>0</td>\n",
              "      <td>0</td>\n",
              "      <td>1</td>\n",
              "      <td>0</td>\n",
              "      <td>100</td>\n",
              "      <td>0</td>\n",
              "      <td>100</td>\n",
              "      <td>0.0</td>\n",
              "      <td>0.0</td>\n",
              "      <td>0.0</td>\n",
              "      <td>0.0</td>\n",
              "      <td>0.0</td>\n",
              "      <td>0.0</td>\n",
              "      <td>0.0</td>\n",
              "      <td>0.0</td>\n",
              "      <td>0.0</td>\n",
              "      <td>0.0</td>\n",
              "      <td>0.0</td>\n",
              "      <td>0.0</td>\n",
              "      <td>0.0</td>\n",
              "      <td>0.0</td>\n",
              "      <td>0.0</td>\n",
              "      <td>0.0</td>\n",
              "      <td>0.0</td>\n",
              "      <td>0.0</td>\n",
              "      <td>0.0</td>\n",
              "      <td>1.0</td>\n",
              "      <td>0.0</td>\n",
              "      <td>0.0</td>\n",
              "      <td>0.0</td>\n",
              "      <td>0.0</td>\n",
              "      <td>0.0</td>\n",
              "      <td>1.0</td>\n",
              "      <td>2.0</td>\n",
              "      <td>1</td>\n",
              "    </tr>\n",
              "    <tr>\n",
              "      <th>3</th>\n",
              "      <td>0</td>\n",
              "      <td>0</td>\n",
              "      <td>2</td>\n",
              "      <td>0</td>\n",
              "      <td>1</td>\n",
              "      <td>0</td>\n",
              "      <td>1</td>\n",
              "      <td>0</td>\n",
              "      <td>0</td>\n",
              "      <td>0</td>\n",
              "      <td>0</td>\n",
              "      <td>0</td>\n",
              "      <td>0</td>\n",
              "      <td>1</td>\n",
              "      <td>0</td>\n",
              "      <td>0</td>\n",
              "      <td>1</td>\n",
              "      <td>137.437</td>\n",
              "      <td>1</td>\n",
              "      <td>0</td>\n",
              "      <td>0</td>\n",
              "      <td>0</td>\n",
              "      <td>0</td>\n",
              "      <td>80</td>\n",
              "      <td>0</td>\n",
              "      <td>80</td>\n",
              "      <td>0.0</td>\n",
              "      <td>0.0</td>\n",
              "      <td>0.0</td>\n",
              "      <td>0.0</td>\n",
              "      <td>0.0</td>\n",
              "      <td>0.0</td>\n",
              "      <td>0.0</td>\n",
              "      <td>0.0</td>\n",
              "      <td>0.0</td>\n",
              "      <td>0.0</td>\n",
              "      <td>0.0</td>\n",
              "      <td>0.0</td>\n",
              "      <td>0.0</td>\n",
              "      <td>0.0</td>\n",
              "      <td>0.0</td>\n",
              "      <td>0.0</td>\n",
              "      <td>0.0</td>\n",
              "      <td>0.0</td>\n",
              "      <td>0.0</td>\n",
              "      <td>0.0</td>\n",
              "      <td>0.0</td>\n",
              "      <td>0.0</td>\n",
              "      <td>0.0</td>\n",
              "      <td>1.0</td>\n",
              "      <td>0.0</td>\n",
              "      <td>1.0</td>\n",
              "      <td>2.0</td>\n",
              "      <td>2</td>\n",
              "    </tr>\n",
              "    <tr>\n",
              "      <th>4</th>\n",
              "      <td>0</td>\n",
              "      <td>1</td>\n",
              "      <td>3</td>\n",
              "      <td>0</td>\n",
              "      <td>2</td>\n",
              "      <td>0</td>\n",
              "      <td>1</td>\n",
              "      <td>0</td>\n",
              "      <td>0</td>\n",
              "      <td>0</td>\n",
              "      <td>0</td>\n",
              "      <td>0</td>\n",
              "      <td>0</td>\n",
              "      <td>2</td>\n",
              "      <td>1</td>\n",
              "      <td>1</td>\n",
              "      <td>1</td>\n",
              "      <td>3.136</td>\n",
              "      <td>1</td>\n",
              "      <td>0</td>\n",
              "      <td>1</td>\n",
              "      <td>2</td>\n",
              "      <td>0</td>\n",
              "      <td>69</td>\n",
              "      <td>0</td>\n",
              "      <td>69</td>\n",
              "      <td>0.0</td>\n",
              "      <td>0.0</td>\n",
              "      <td>0.0</td>\n",
              "      <td>0.0</td>\n",
              "      <td>0.0</td>\n",
              "      <td>0.0</td>\n",
              "      <td>0.0</td>\n",
              "      <td>0.0</td>\n",
              "      <td>0.0</td>\n",
              "      <td>0.0</td>\n",
              "      <td>0.0</td>\n",
              "      <td>0.0</td>\n",
              "      <td>0.0</td>\n",
              "      <td>0.0</td>\n",
              "      <td>0.0</td>\n",
              "      <td>0.0</td>\n",
              "      <td>0.0</td>\n",
              "      <td>0.0</td>\n",
              "      <td>0.0</td>\n",
              "      <td>0.0</td>\n",
              "      <td>0.0</td>\n",
              "      <td>0.0</td>\n",
              "      <td>0.0</td>\n",
              "      <td>1.0</td>\n",
              "      <td>0.0</td>\n",
              "      <td>1.0</td>\n",
              "      <td>2.0</td>\n",
              "      <td>1</td>\n",
              "    </tr>\n",
              "  </tbody>\n",
              "</table>\n",
              "</div>"
            ],
            "text/plain": [
              "   quintal  churrasqueira  banheiros  ...  areaCat  areaUtilizadaCat  preco\n",
              "0        0              0          1  ...      0.0               1.0      0\n",
              "1        0              0          3  ...      1.0               3.0      2\n",
              "2        0              0          3  ...      1.0               2.0      1\n",
              "3        0              0          2  ...      1.0               2.0      2\n",
              "4        0              1          3  ...      1.0               2.0      1\n",
              "\n",
              "[5 rows x 54 columns]"
            ]
          },
          "metadata": {
            "tags": []
          },
          "execution_count": 14
        }
      ]
    },
    {
      "cell_type": "markdown",
      "metadata": {
        "id": "FB1w2uLKJl2R"
      },
      "source": [
        "Agora, podemos eliminar a coluna orininal de preços (`precoTotal`) e separar as variáveis em dependentes e independentes que irão alimentar o modelo."
      ]
    },
    {
      "cell_type": "code",
      "metadata": {
        "id": "gjXaI7kHJ4LR"
      },
      "source": [
        "# EXCLUINDO A VARIÁVEL 'PRECOTOTAL'\r\n",
        "\r\n",
        "df_clf.drop('precoTotal', axis = 1, inplace = True)"
      ],
      "execution_count": null,
      "outputs": []
    },
    {
      "cell_type": "code",
      "metadata": {
        "id": "PaB5rxmjKCdh",
        "colab": {
          "base_uri": "https://localhost:8080/",
          "height": 270
        },
        "outputId": "3e851047-2e1a-46ea-da0e-f5d443e8c055"
      },
      "source": [
        "# CONFERINDO AS ALTERAÇÕES\r\n",
        "\r\n",
        "df_clf.head()"
      ],
      "execution_count": null,
      "outputs": [
        {
          "output_type": "execute_result",
          "data": {
            "text/html": [
              "<div>\n",
              "<style scoped>\n",
              "    .dataframe tbody tr th:only-of-type {\n",
              "        vertical-align: middle;\n",
              "    }\n",
              "\n",
              "    .dataframe tbody tr th {\n",
              "        vertical-align: top;\n",
              "    }\n",
              "\n",
              "    .dataframe thead th {\n",
              "        text-align: right;\n",
              "    }\n",
              "</style>\n",
              "<table border=\"1\" class=\"dataframe\">\n",
              "  <thead>\n",
              "    <tr style=\"text-align: right;\">\n",
              "      <th></th>\n",
              "      <th>quintal</th>\n",
              "      <th>churrasqueira</th>\n",
              "      <th>banheiros</th>\n",
              "      <th>banheira</th>\n",
              "      <th>quartos</th>\n",
              "      <th>lareira</th>\n",
              "      <th>andares</th>\n",
              "      <th>mobilhado</th>\n",
              "      <th>jardim</th>\n",
              "      <th>estacionamento</th>\n",
              "      <th>academia</th>\n",
              "      <th>jacuzzi</th>\n",
              "      <th>vistaMontanhas</th>\n",
              "      <th>vagasGaragem</th>\n",
              "      <th>salaoFestas</th>\n",
              "      <th>parquinho</th>\n",
              "      <th>piscina</th>\n",
              "      <th>sauna</th>\n",
              "      <th>isolamentoAcustico</th>\n",
              "      <th>quadra</th>\n",
              "      <th>suites</th>\n",
              "      <th>quadraTenis</th>\n",
              "      <th>area</th>\n",
              "      <th>andar</th>\n",
              "      <th>areaUtilizada</th>\n",
              "      <th>Acre</th>\n",
              "      <th>Alagoas</th>\n",
              "      <th>Amazonas</th>\n",
              "      <th>Bahia</th>\n",
              "      <th>Ceará</th>\n",
              "      <th>Distrito Federal</th>\n",
              "      <th>Espírito Santo</th>\n",
              "      <th>Goiás</th>\n",
              "      <th>Maranhão</th>\n",
              "      <th>Mato Grosso</th>\n",
              "      <th>Mato Grosso do Sul</th>\n",
              "      <th>Minas Gerais</th>\n",
              "      <th>Paraná</th>\n",
              "      <th>Paraíba</th>\n",
              "      <th>Pará</th>\n",
              "      <th>Pernambuco</th>\n",
              "      <th>Piauí</th>\n",
              "      <th>Rio Grande do Norte</th>\n",
              "      <th>Rio Grande do Sul</th>\n",
              "      <th>Rio de Janeiro</th>\n",
              "      <th>Rondônia</th>\n",
              "      <th>Santa Catarina</th>\n",
              "      <th>Sergipe</th>\n",
              "      <th>São Paulo</th>\n",
              "      <th>Tocantins</th>\n",
              "      <th>areaCat</th>\n",
              "      <th>areaUtilizadaCat</th>\n",
              "      <th>preco</th>\n",
              "    </tr>\n",
              "  </thead>\n",
              "  <tbody>\n",
              "    <tr>\n",
              "      <th>0</th>\n",
              "      <td>0</td>\n",
              "      <td>0</td>\n",
              "      <td>1</td>\n",
              "      <td>0</td>\n",
              "      <td>2</td>\n",
              "      <td>0</td>\n",
              "      <td>1</td>\n",
              "      <td>0</td>\n",
              "      <td>0</td>\n",
              "      <td>0</td>\n",
              "      <td>0</td>\n",
              "      <td>0</td>\n",
              "      <td>0</td>\n",
              "      <td>1</td>\n",
              "      <td>0</td>\n",
              "      <td>0</td>\n",
              "      <td>0</td>\n",
              "      <td>0</td>\n",
              "      <td>0</td>\n",
              "      <td>0</td>\n",
              "      <td>1</td>\n",
              "      <td>0</td>\n",
              "      <td>45</td>\n",
              "      <td>0</td>\n",
              "      <td>45</td>\n",
              "      <td>0.0</td>\n",
              "      <td>0.0</td>\n",
              "      <td>0.0</td>\n",
              "      <td>0.0</td>\n",
              "      <td>0.0</td>\n",
              "      <td>0.0</td>\n",
              "      <td>0.0</td>\n",
              "      <td>0.0</td>\n",
              "      <td>0.0</td>\n",
              "      <td>0.0</td>\n",
              "      <td>0.0</td>\n",
              "      <td>0.0</td>\n",
              "      <td>0.0</td>\n",
              "      <td>0.0</td>\n",
              "      <td>0.0</td>\n",
              "      <td>0.0</td>\n",
              "      <td>0.0</td>\n",
              "      <td>0.0</td>\n",
              "      <td>0.0</td>\n",
              "      <td>0.0</td>\n",
              "      <td>0.0</td>\n",
              "      <td>0.0</td>\n",
              "      <td>0.0</td>\n",
              "      <td>1.0</td>\n",
              "      <td>0.0</td>\n",
              "      <td>0.0</td>\n",
              "      <td>1.0</td>\n",
              "      <td>0</td>\n",
              "    </tr>\n",
              "    <tr>\n",
              "      <th>1</th>\n",
              "      <td>0</td>\n",
              "      <td>0</td>\n",
              "      <td>3</td>\n",
              "      <td>0</td>\n",
              "      <td>3</td>\n",
              "      <td>0</td>\n",
              "      <td>1</td>\n",
              "      <td>0</td>\n",
              "      <td>0</td>\n",
              "      <td>0</td>\n",
              "      <td>0</td>\n",
              "      <td>0</td>\n",
              "      <td>0</td>\n",
              "      <td>1</td>\n",
              "      <td>0</td>\n",
              "      <td>0</td>\n",
              "      <td>0</td>\n",
              "      <td>0</td>\n",
              "      <td>0</td>\n",
              "      <td>0</td>\n",
              "      <td>1</td>\n",
              "      <td>0</td>\n",
              "      <td>140</td>\n",
              "      <td>0</td>\n",
              "      <td>140</td>\n",
              "      <td>0.0</td>\n",
              "      <td>0.0</td>\n",
              "      <td>0.0</td>\n",
              "      <td>0.0</td>\n",
              "      <td>0.0</td>\n",
              "      <td>0.0</td>\n",
              "      <td>0.0</td>\n",
              "      <td>0.0</td>\n",
              "      <td>0.0</td>\n",
              "      <td>0.0</td>\n",
              "      <td>0.0</td>\n",
              "      <td>0.0</td>\n",
              "      <td>0.0</td>\n",
              "      <td>0.0</td>\n",
              "      <td>0.0</td>\n",
              "      <td>0.0</td>\n",
              "      <td>0.0</td>\n",
              "      <td>0.0</td>\n",
              "      <td>0.0</td>\n",
              "      <td>0.0</td>\n",
              "      <td>0.0</td>\n",
              "      <td>1.0</td>\n",
              "      <td>0.0</td>\n",
              "      <td>0.0</td>\n",
              "      <td>0.0</td>\n",
              "      <td>1.0</td>\n",
              "      <td>3.0</td>\n",
              "      <td>2</td>\n",
              "    </tr>\n",
              "    <tr>\n",
              "      <th>2</th>\n",
              "      <td>0</td>\n",
              "      <td>0</td>\n",
              "      <td>3</td>\n",
              "      <td>0</td>\n",
              "      <td>3</td>\n",
              "      <td>0</td>\n",
              "      <td>1</td>\n",
              "      <td>0</td>\n",
              "      <td>0</td>\n",
              "      <td>0</td>\n",
              "      <td>0</td>\n",
              "      <td>0</td>\n",
              "      <td>0</td>\n",
              "      <td>2</td>\n",
              "      <td>0</td>\n",
              "      <td>0</td>\n",
              "      <td>0</td>\n",
              "      <td>0</td>\n",
              "      <td>0</td>\n",
              "      <td>0</td>\n",
              "      <td>1</td>\n",
              "      <td>0</td>\n",
              "      <td>100</td>\n",
              "      <td>0</td>\n",
              "      <td>100</td>\n",
              "      <td>0.0</td>\n",
              "      <td>0.0</td>\n",
              "      <td>0.0</td>\n",
              "      <td>0.0</td>\n",
              "      <td>0.0</td>\n",
              "      <td>0.0</td>\n",
              "      <td>0.0</td>\n",
              "      <td>0.0</td>\n",
              "      <td>0.0</td>\n",
              "      <td>0.0</td>\n",
              "      <td>0.0</td>\n",
              "      <td>0.0</td>\n",
              "      <td>0.0</td>\n",
              "      <td>0.0</td>\n",
              "      <td>0.0</td>\n",
              "      <td>0.0</td>\n",
              "      <td>0.0</td>\n",
              "      <td>0.0</td>\n",
              "      <td>0.0</td>\n",
              "      <td>1.0</td>\n",
              "      <td>0.0</td>\n",
              "      <td>0.0</td>\n",
              "      <td>0.0</td>\n",
              "      <td>0.0</td>\n",
              "      <td>0.0</td>\n",
              "      <td>1.0</td>\n",
              "      <td>2.0</td>\n",
              "      <td>1</td>\n",
              "    </tr>\n",
              "    <tr>\n",
              "      <th>3</th>\n",
              "      <td>0</td>\n",
              "      <td>0</td>\n",
              "      <td>2</td>\n",
              "      <td>0</td>\n",
              "      <td>1</td>\n",
              "      <td>0</td>\n",
              "      <td>1</td>\n",
              "      <td>0</td>\n",
              "      <td>0</td>\n",
              "      <td>0</td>\n",
              "      <td>0</td>\n",
              "      <td>0</td>\n",
              "      <td>0</td>\n",
              "      <td>1</td>\n",
              "      <td>0</td>\n",
              "      <td>0</td>\n",
              "      <td>1</td>\n",
              "      <td>1</td>\n",
              "      <td>0</td>\n",
              "      <td>0</td>\n",
              "      <td>0</td>\n",
              "      <td>0</td>\n",
              "      <td>80</td>\n",
              "      <td>0</td>\n",
              "      <td>80</td>\n",
              "      <td>0.0</td>\n",
              "      <td>0.0</td>\n",
              "      <td>0.0</td>\n",
              "      <td>0.0</td>\n",
              "      <td>0.0</td>\n",
              "      <td>0.0</td>\n",
              "      <td>0.0</td>\n",
              "      <td>0.0</td>\n",
              "      <td>0.0</td>\n",
              "      <td>0.0</td>\n",
              "      <td>0.0</td>\n",
              "      <td>0.0</td>\n",
              "      <td>0.0</td>\n",
              "      <td>0.0</td>\n",
              "      <td>0.0</td>\n",
              "      <td>0.0</td>\n",
              "      <td>0.0</td>\n",
              "      <td>0.0</td>\n",
              "      <td>0.0</td>\n",
              "      <td>0.0</td>\n",
              "      <td>0.0</td>\n",
              "      <td>0.0</td>\n",
              "      <td>0.0</td>\n",
              "      <td>1.0</td>\n",
              "      <td>0.0</td>\n",
              "      <td>1.0</td>\n",
              "      <td>2.0</td>\n",
              "      <td>2</td>\n",
              "    </tr>\n",
              "    <tr>\n",
              "      <th>4</th>\n",
              "      <td>0</td>\n",
              "      <td>1</td>\n",
              "      <td>3</td>\n",
              "      <td>0</td>\n",
              "      <td>2</td>\n",
              "      <td>0</td>\n",
              "      <td>1</td>\n",
              "      <td>0</td>\n",
              "      <td>0</td>\n",
              "      <td>0</td>\n",
              "      <td>0</td>\n",
              "      <td>0</td>\n",
              "      <td>0</td>\n",
              "      <td>2</td>\n",
              "      <td>1</td>\n",
              "      <td>1</td>\n",
              "      <td>1</td>\n",
              "      <td>1</td>\n",
              "      <td>0</td>\n",
              "      <td>1</td>\n",
              "      <td>2</td>\n",
              "      <td>0</td>\n",
              "      <td>69</td>\n",
              "      <td>0</td>\n",
              "      <td>69</td>\n",
              "      <td>0.0</td>\n",
              "      <td>0.0</td>\n",
              "      <td>0.0</td>\n",
              "      <td>0.0</td>\n",
              "      <td>0.0</td>\n",
              "      <td>0.0</td>\n",
              "      <td>0.0</td>\n",
              "      <td>0.0</td>\n",
              "      <td>0.0</td>\n",
              "      <td>0.0</td>\n",
              "      <td>0.0</td>\n",
              "      <td>0.0</td>\n",
              "      <td>0.0</td>\n",
              "      <td>0.0</td>\n",
              "      <td>0.0</td>\n",
              "      <td>0.0</td>\n",
              "      <td>0.0</td>\n",
              "      <td>0.0</td>\n",
              "      <td>0.0</td>\n",
              "      <td>0.0</td>\n",
              "      <td>0.0</td>\n",
              "      <td>0.0</td>\n",
              "      <td>0.0</td>\n",
              "      <td>1.0</td>\n",
              "      <td>0.0</td>\n",
              "      <td>1.0</td>\n",
              "      <td>2.0</td>\n",
              "      <td>1</td>\n",
              "    </tr>\n",
              "  </tbody>\n",
              "</table>\n",
              "</div>"
            ],
            "text/plain": [
              "   quintal  churrasqueira  banheiros  ...  areaCat  areaUtilizadaCat  preco\n",
              "0        0              0          1  ...      0.0               1.0      0\n",
              "1        0              0          3  ...      1.0               3.0      2\n",
              "2        0              0          3  ...      1.0               2.0      1\n",
              "3        0              0          2  ...      1.0               2.0      2\n",
              "4        0              1          3  ...      1.0               2.0      1\n",
              "\n",
              "[5 rows x 53 columns]"
            ]
          },
          "metadata": {
            "tags": []
          },
          "execution_count": 16
        }
      ]
    },
    {
      "cell_type": "markdown",
      "metadata": {
        "id": "t27hXbbJKeD4"
      },
      "source": [
        "Agora, que já adaptamos a variável alvo para o modelo de classificação, podemos iniciar a implementação do algoritmos Random Forest."
      ]
    },
    {
      "cell_type": "code",
      "metadata": {
        "id": "Mgcwfo5dM9RD"
      },
      "source": [
        "# IMPORTANDO O MODELO RANDOM FOREST PARA CLASSIFICAÇÃO\r\n",
        "\r\n",
        "from sklearn.ensemble import RandomForestClassifier"
      ],
      "execution_count": null,
      "outputs": []
    },
    {
      "cell_type": "code",
      "metadata": {
        "id": "Y4F-PhCi6Mwf"
      },
      "source": [
        "# INSTANCIANDO O MODELO\r\n",
        "\r\n",
        "rfc_model = RandomForestClassifier(random_state = 42, criterion = 'entropy', oob_score = True)"
      ],
      "execution_count": null,
      "outputs": []
    },
    {
      "cell_type": "markdown",
      "metadata": {
        "id": "7WGrXYAJMH5u"
      },
      "source": [
        "Assim como os demais modelos, o Random Forest possui diversos hyperparâmetros, a exemplo do `random_state` explicitado durante a etapa de instância do modelo.\r\n",
        "\r\n",
        "Podemos verificar todos os parâmetros padrões do modelo através do seguinte comando: `.get_params`"
      ]
    },
    {
      "cell_type": "code",
      "metadata": {
        "id": "3v8hbOh-6NM3",
        "colab": {
          "base_uri": "https://localhost:8080/"
        },
        "outputId": "a3e169ae-4eb1-40a5-9376-4eef5f4f5958"
      },
      "source": [
        "# VERIFICANDO OS PARÂMETROS PADRÕES\r\n",
        "\r\n",
        "from pprint import pprint\r\n",
        "\r\n",
        "print('Parâmetros atualmente em uso:\\n')\r\n",
        "pprint(rfc_model.get_params())"
      ],
      "execution_count": null,
      "outputs": [
        {
          "output_type": "stream",
          "text": [
            "Parâmetros atualmente em uso:\n",
            "\n",
            "{'bootstrap': True,\n",
            " 'ccp_alpha': 0.0,\n",
            " 'class_weight': None,\n",
            " 'criterion': 'entropy',\n",
            " 'max_depth': None,\n",
            " 'max_features': 'auto',\n",
            " 'max_leaf_nodes': None,\n",
            " 'max_samples': None,\n",
            " 'min_impurity_decrease': 0.0,\n",
            " 'min_impurity_split': None,\n",
            " 'min_samples_leaf': 1,\n",
            " 'min_samples_split': 2,\n",
            " 'min_weight_fraction_leaf': 0.0,\n",
            " 'n_estimators': 100,\n",
            " 'n_jobs': None,\n",
            " 'oob_score': True,\n",
            " 'random_state': 42,\n",
            " 'verbose': 0,\n",
            " 'warm_start': False}\n"
          ],
          "name": "stdout"
        }
      ]
    },
    {
      "cell_type": "markdown",
      "metadata": {
        "id": "i2Wo5bqmNRK3"
      },
      "source": [
        "Abaixo, segue os detalhes sobre o significado de alguns desses parâmetros:\r\n",
        "\r\n",
        "* **n_estimators**: número de árvores na previsão;\r\n",
        "\r\n",
        "* **max_features**: número máximo de recursos considerados para dividir um nó;\r\n",
        "\r\n",
        "* **max_depth**: número máximo de níveis em cada árvore de decisão;\r\n",
        "\r\n",
        "* **min_samples_split**: número mínimo de pontos de dados colocados em um nó antes que o nó seja dividido;\r\n",
        "\r\n",
        "* **min_samples_leaf**: número mínimo de pontos de dados permitidos em um nó folha;\r\n",
        "\r\n",
        "* **bootstrap**: método para amostragem de pontos de dados (com ou sem substituição);"
      ]
    },
    {
      "cell_type": "markdown",
      "metadata": {
        "id": "I6_5ZthZN-bG"
      },
      "source": [
        "O detalhamento aprofundado de cada parâmetro pode ser consultado no site oficial do Scikit-Learn através deste [link](https://scikit-learn.org/stable/modules/generated/sklearn.ensemble.RandomForestClassifier.html)."
      ]
    },
    {
      "cell_type": "code",
      "metadata": {
        "id": "MwKoLetmON1Y"
      },
      "source": [
        "# DEFININDO OS DADOS DE TREINO E TESTE\r\n",
        "\r\n",
        "X = df_clf.drop('preco', axis = 1)\r\n",
        "y = df_clf.preco"
      ],
      "execution_count": null,
      "outputs": []
    },
    {
      "cell_type": "code",
      "metadata": {
        "id": "0KehM0ztONtQ"
      },
      "source": [
        "# DIVIDINDO OS DADOS EM TREINO E TESTE\r\n",
        "\r\n",
        "from sklearn.model_selection import train_test_split\r\n",
        "\r\n",
        "X_train, X_test, y_train, y_test = train_test_split(X, y, test_size = 0.28)"
      ],
      "execution_count": null,
      "outputs": []
    },
    {
      "cell_type": "code",
      "metadata": {
        "id": "_FSvchOgONeW",
        "colab": {
          "base_uri": "https://localhost:8080/"
        },
        "outputId": "3759e502-c4de-4357-893c-b8607bd29452"
      },
      "source": [
        "# TREINANDO O MODELO\r\n",
        "\r\n",
        "rfc_model.fit(X_train, y_train)"
      ],
      "execution_count": null,
      "outputs": [
        {
          "output_type": "execute_result",
          "data": {
            "text/plain": [
              "RandomForestClassifier(bootstrap=True, ccp_alpha=0.0, class_weight=None,\n",
              "                       criterion='entropy', max_depth=None, max_features='auto',\n",
              "                       max_leaf_nodes=None, max_samples=None,\n",
              "                       min_impurity_decrease=0.0, min_impurity_split=None,\n",
              "                       min_samples_leaf=1, min_samples_split=2,\n",
              "                       min_weight_fraction_leaf=0.0, n_estimators=100,\n",
              "                       n_jobs=None, oob_score=True, random_state=42, verbose=0,\n",
              "                       warm_start=False)"
            ]
          },
          "metadata": {
            "tags": []
          },
          "execution_count": 29
        }
      ]
    },
    {
      "cell_type": "code",
      "metadata": {
        "id": "sT1f8gDYowYm"
      },
      "source": [
        "# DESEMPENHO DO MODELO\r\n",
        "\r\n",
        "# IMPORTAÇÃO DAS FERRAMENTAS DE MÉTRICAS\r\n",
        "\r\n",
        "from sklearn.metrics import classification_report\r\n",
        "from sklearn.metrics import accuracy_score"
      ],
      "execution_count": null,
      "outputs": []
    },
    {
      "cell_type": "code",
      "metadata": {
        "id": "sn6kSdfEo3tL"
      },
      "source": [
        "# REALIZANDO A PREVISÃO NOS DADOS DE TESTE\r\n",
        "\r\n",
        "y_pred = rfc_model.predict(X_test)"
      ],
      "execution_count": null,
      "outputs": []
    },
    {
      "cell_type": "code",
      "metadata": {
        "colab": {
          "base_uri": "https://localhost:8080/"
        },
        "id": "XRoDE2-spBj8",
        "outputId": "275648fc-84c4-4e12-d420-152fd49cbaa2"
      },
      "source": [
        "# VIZUALIZANDO A ACURÁCIA GERAL\r\n",
        "\r\n",
        "print('[Acurácia] Random Forest:', accuracy_score(y_test, y_pred))"
      ],
      "execution_count": null,
      "outputs": [
        {
          "output_type": "stream",
          "text": [
            "[Acurácia] Random Forest: 0.7150156116945785\n"
          ],
          "name": "stdout"
        }
      ]
    },
    {
      "cell_type": "code",
      "metadata": {
        "colab": {
          "base_uri": "https://localhost:8080/"
        },
        "id": "2eTOBkIjuVQl",
        "outputId": "a145eae9-8f13-403c-89dc-ec08698db686"
      },
      "source": [
        "# VIZUALIZANDO OOB DO RANDOM FOREST\r\n",
        "\r\n",
        "print('[Out-of-Bag] Random Forest:', rfc_model.oob_score_)"
      ],
      "execution_count": null,
      "outputs": [
        {
          "output_type": "stream",
          "text": [
            "[Out-of-Bag] Random Forest: 0.7061485815211392\n"
          ],
          "name": "stdout"
        }
      ]
    },
    {
      "cell_type": "code",
      "metadata": {
        "colab": {
          "base_uri": "https://localhost:8080/"
        },
        "id": "bCf4jzmFpGmq",
        "outputId": "b1eeacb1-f3c4-48fb-8430-df693541a5d2"
      },
      "source": [
        "# VISUALIZANDO O CLASSIFICATION REPORT\r\n",
        "\r\n",
        "print('\\n[Classification Report] Random Forest')\r\n",
        "\r\n",
        "print(classification_report(y_test, y_pred))"
      ],
      "execution_count": null,
      "outputs": [
        {
          "output_type": "stream",
          "text": [
            "\n",
            "[Classification Report] Random Forest\n",
            "              precision    recall  f1-score   support\n",
            "\n",
            "           0       0.67      0.66      0.67      2342\n",
            "           1       0.72      0.70      0.71      2412\n",
            "           2       0.75      0.78      0.77      2292\n",
            "\n",
            "    accuracy                           0.72      7046\n",
            "   macro avg       0.71      0.72      0.72      7046\n",
            "weighted avg       0.71      0.72      0.71      7046\n",
            "\n"
          ],
          "name": "stdout"
        }
      ]
    },
    {
      "cell_type": "markdown",
      "metadata": {
        "id": "v3wiMZMHpgRu"
      },
      "source": [
        "A partir dos resutlados , podemos perceber que o modelo teve mais dificuldade em classificar os dados que correspondem ao **índice 0**, ou seja, quando o **imóvel é barato**. Enquanto o melhor desempenho foi para as previsões para o target do **tipo 2**, ou seja, para **imóveis caros**.\r\n",
        "\r\n",
        "No geral, podemos concluir que o desempenho do modelo não foi bom."
      ]
    },
    {
      "cell_type": "markdown",
      "metadata": {
        "id": "J9TUWJbEOV3w"
      },
      "source": [
        "Um aspecto muito importante durante a implementação de um modelo de *Machine Learning*, é saber quais parâmetros devemos usar. Esta não é uma tarefa fácil, afinal, além de serem muitos, cada um desses parâmetros afetam o desempenho do modelo de uma forma diferente.\r\n",
        "\r\n",
        "A maneira de resolver isso é fazendo o Ajuste ou Sintonia de Hiperparâmetros, *Hyperparameter Tuning* do inglês. E claro, a biblioteca Scikit-Learn possui um módulo para realizar esse ajuste.\r\n",
        "\r\n",
        "Assim, uma maneira de tentar melhorar o desempenho do modelo seria ajustar seus hiperparâmetros."
      ]
    },
    {
      "cell_type": "markdown",
      "metadata": {
        "id": "zuBiwusrHrHT"
      },
      "source": [
        "### **Referências**\r\n",
        "\r\n",
        "LORENA, Ana Carolina; GAMA, João; FACELI, Katti. Inteligência Artificial: Uma abordagem de aprendizado de máquina. Grupo Gen-LTC, 2011."
      ]
    }
  ]
}
